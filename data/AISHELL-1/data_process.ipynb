{
 "cells": [
  {
   "cell_type": "code",
   "execution_count": 1,
   "metadata": {},
   "outputs": [],
   "source": [
    "data  = ['train', 'dev', 'test']\n",
    "label = ['input', 'label']"
   ]
  },
  {
   "cell_type": "code",
   "execution_count": 5,
   "metadata": {},
   "outputs": [],
   "source": [
    "file_path = '/home/users/jiangjin/jiangjin_bupt/ASR_CORRECTION/Context_Correction/Baseline_and_Other_models/Baseline/Baseline-multi_encoder/data/AISHELL-1/divided_data/'\n",
    "file_path_2 = '/home/users/jiangjin/jiangjin_bupt/ASR_CORRECTION/Context_Correction/Baseline_and_Other_models/Baseline/Baseline-multi_encoder/data/AISHELL-1/'\n",
    "for x in data:\n",
    "    with open(file_path+'concatenated_input2label_'+x+'_'+label[0]+'.txt','r') as f_input, \\\n",
    "        open(file_path+'concatenated_input2label_'+x+'_'+label[1]+'.txt', 'r') as f_label, \\\n",
    "            open(file_path_2+'AISHELL-1_'+x+'.txt', 'w') as f_ouput:\n",
    "            data_input = f_input.readlines()\n",
    "            data_label = f_label.readlines()\n",
    "            data_ouput = []\n",
    "            for item_input, item_label in zip(data_input, data_label):\n",
    "                data_ouput.append(item_input.strip()+' '+item_label)\n",
    "            f_ouput.writelines(data_ouput)"
   ]
  },
  {
   "cell_type": "code",
   "execution_count": null,
   "metadata": {},
   "outputs": [],
   "source": []
  }
 ],
 "metadata": {
  "kernelspec": {
   "display_name": "Python 3.8.8",
   "language": "python",
   "name": "python3"
  },
  "language_info": {
   "codemirror_mode": {
    "name": "ipython",
    "version": 3
   },
   "file_extension": ".py",
   "mimetype": "text/x-python",
   "name": "python",
   "nbconvert_exporter": "python",
   "pygments_lexer": "ipython3",
   "version": "3.8.8"
  },
  "orig_nbformat": 4,
  "vscode": {
   "interpreter": {
    "hash": "5b3228b2b04fe574edc1cfad377da45b01c8bfafeb5d7448f83b83b0b5984135"
   }
  }
 },
 "nbformat": 4,
 "nbformat_minor": 2
}
